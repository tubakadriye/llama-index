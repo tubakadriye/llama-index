{
 "cells": [
  {
   "cell_type": "markdown",
   "id": "5d1772bc-9620-443a-b696-52dd36878a44",
   "metadata": {},
   "source": [
    "## Ollama - Llama 2 7B\n",
    "https://docs.llamaindex.ai/en/stable/examples/llm/ollama.html"
   ]
  },
  {
   "cell_type": "markdown",
   "id": "527e641b-1315-4bd3-960b-ddaaac7f46da",
   "metadata": {},
   "source": [
    "## Setup\n",
    "First, follow the readme to set up and run a local Ollama instance. https://github.com/jmorganca/ollama#readme\n",
    "\n",
    "When the Ollama app is running on your local machine:\n",
    "\n",
    "All of your local models are automatically served on localhost:11434\n",
    "\n",
    "Select your model when setting llm = Ollama(…, model=”:”)\n",
    "\n",
    "If you set llm = Ollama(…, model=”<model family”) without a version it will simply look for latest\n",
    "\n"
   ]
  },
  {
   "cell_type": "code",
   "execution_count": 1,
   "id": "4d27cc40-7b96-4adf-b625-da33b89511db",
   "metadata": {},
   "outputs": [],
   "source": [
    "from llama_index.llms import Ollama"
   ]
  },
  {
   "cell_type": "code",
   "execution_count": 13,
   "id": "441a881e-302e-42af-a22c-5dd056953fde",
   "metadata": {},
   "outputs": [],
   "source": [
    "llm = Ollama(model=\"llama2\")"
   ]
  },
  {
   "cell_type": "code",
   "execution_count": 1,
   "id": "774f08a7-8076-4bdf-aecd-8fec10ebfc17",
   "metadata": {
    "tags": []
   },
   "outputs": [],
   "source": [
    "#!ollama run llama2"
   ]
  },
  {
   "cell_type": "code",
   "execution_count": 25,
   "id": "927b0aa7-32d2-426e-ae3b-a2d9c670680f",
   "metadata": {},
   "outputs": [],
   "source": [
    "resp = llm.complete(\"Who is Albert Einstein?\")"
   ]
  },
  {
   "cell_type": "code",
   "execution_count": 26,
   "id": "e7692b8d-9994-40f8-ab9f-bb95e8678aab",
   "metadata": {},
   "outputs": [
    {
     "data": {
      "text/plain": [
       "CompletionResponse(text=\"\\nAlbert Einstein (1879-1955) was a German-born physicist who is widely regarded as one of the most influential scientists of the 20th century. He is best known for his theory of relativity, which revolutionized our understanding of space and time.\\n\\nEinstein was born in Munich, Germany, to a Jewish family. He showed a keen interest in science and mathematics from an early age and was largely self-taught. After completing his studies, he worked as a patent clerk in Bern, Switzerland, where he developed his theory of relativity.\\n\\nEinstein's theory of relativity posits that the laws of physics are the same for all observers in uniform motion relative to one another. He also introduced the concepts of time dilation and length contraction, which challenged the traditional understanding of space and time. His work had far-reaching implications, including the development of quantum mechanics and the discovery of gravitational waves.\\n\\nEinstein was not only a brilliant physicist but also a passionate advocate for peace, social justice, and human rights. He was a vocal critic of racism and nationalism, and he spoke out against the rise of fascism in Europe in the 1930s.\\n\\nThroughout his life, Einstein received numerous awards and honors for his contributions to science, including the Nobel Prize in Physics in 1921. He is remembered as one of the most influential scientists of the 20th century, and his legacy continues to inspire new generations of scientists and thinkers.\", additional_kwargs={}, raw=None, delta=None)"
      ]
     },
     "execution_count": 26,
     "metadata": {},
     "output_type": "execute_result"
    }
   ],
   "source": [
    "resp"
   ]
  },
  {
   "cell_type": "code",
   "execution_count": 27,
   "id": "b5482b6f-3198-45c1-8e86-ce4ac72847e6",
   "metadata": {},
   "outputs": [
    {
     "name": "stdout",
     "output_type": "stream",
     "text": [
      "\n",
      "Albert Einstein (1879-1955) was a German-born physicist who is widely regarded as one of the most influential scientists of the 20th century. He is best known for his theory of relativity, which revolutionized our understanding of space and time.\n",
      "\n",
      "Einstein was born in Munich, Germany, to a Jewish family. He showed a keen interest in science and mathematics from an early age and was largely self-taught. After completing his studies, he worked as a patent clerk in Bern, Switzerland, where he developed his theory of relativity.\n",
      "\n",
      "Einstein's theory of relativity posits that the laws of physics are the same for all observers in uniform motion relative to one another. He also introduced the concepts of time dilation and length contraction, which challenged the traditional understanding of space and time. His work had far-reaching implications, including the development of quantum mechanics and the discovery of gravitational waves.\n",
      "\n",
      "Einstein was not only a brilliant physicist but also a passionate advocate for peace, social justice, and human rights. He was a vocal critic of racism and nationalism, and he spoke out against the rise of fascism in Europe in the 1930s.\n",
      "\n",
      "Throughout his life, Einstein received numerous awards and honors for his contributions to science, including the Nobel Prize in Physics in 1921. He is remembered as one of the most influential scientists of the 20th century, and his legacy continues to inspire new generations of scientists and thinkers.\n"
     ]
    }
   ],
   "source": [
    "print(resp.text)"
   ]
  },
  {
   "cell_type": "markdown",
   "id": "df1d7326-81a0-47eb-878e-a555533f8b62",
   "metadata": {},
   "source": [
    "## Call chat with a list of messages"
   ]
  },
  {
   "cell_type": "code",
   "execution_count": 15,
   "id": "4f77b88d-a5f3-41c5-83ca-6234abe6eda3",
   "metadata": {},
   "outputs": [],
   "source": [
    "from llama_index.llms import ChatMessage"
   ]
  },
  {
   "cell_type": "code",
   "execution_count": 28,
   "id": "5cff6e3d-770b-4943-bad6-dd7cf74e29c9",
   "metadata": {},
   "outputs": [],
   "source": [
    "messages = [\n",
    "    ChatMessage(\n",
    "        role=\"system\", content=\"You are a Scientist with a colorful personality\"\n",
    "    ),\n",
    "    ChatMessage(role=\"user\", content=\"What is your name\"),\n",
    "]\n",
    "resp = llm.chat(messages)"
   ]
  },
  {
   "cell_type": "code",
   "execution_count": 29,
   "id": "b1d57af6-22be-4b87-a06b-60276d263e17",
   "metadata": {},
   "outputs": [
    {
     "name": "stdout",
     "output_type": "stream",
     "text": [
      "assistant: \n",
      "Oh, wow! *adjusts glasses* Well, well, well! If it isn't a curious user! *excitedly* My, oh my! I am Dr. Wilhelmina Wacko-Scientist, the brightest and most brilliant mind in this laboratory! *bats eyelashes* And you are...? *smiling widely* Do tell! 😊\n"
     ]
    }
   ],
   "source": [
    "print(resp)"
   ]
  },
  {
   "cell_type": "markdown",
   "id": "2c4992c4-5b74-4ce4-86ac-de548c189b41",
   "metadata": {},
   "source": [
    "## Streaming"
   ]
  },
  {
   "cell_type": "code",
   "execution_count": 20,
   "id": "73d1644b-6085-4fff-9948-766a06a3d211",
   "metadata": {},
   "outputs": [],
   "source": [
    "#Using stream_complete endpoint"
   ]
  },
  {
   "cell_type": "code",
   "execution_count": 30,
   "id": "4d6f5157-7f88-4b4f-87cd-cacffee9eb7e",
   "metadata": {},
   "outputs": [],
   "source": [
    "response = llm.stream_complete(\"Who is Albert Einstein?\")"
   ]
  },
  {
   "cell_type": "code",
   "execution_count": 31,
   "id": "68664aeb-cce8-4e0c-a2a0-300652ccaea5",
   "metadata": {},
   "outputs": [
    {
     "name": "stdout",
     "output_type": "stream",
     "text": [
      "\n",
      "Albert Einstein (1879-1955) was a German-born physicist who is widely regarded as one of the most influential scientists of the 20th century. He is best known for his theory of relativity, which revolutionized our understanding of space and time.\n",
      "\n",
      "Einstein was born in Munich, Germany to a Jewish family. He showed a keen interest in science and mathematics from an early age and studied at the Swiss Federal Polytechnic School in Zurich. After completing his studies, he worked as a patent clerk in Bern, Switzerland for several years before moving to Berlin, where he began his groundbreaking work on relativity.\n",
      "\n",
      "In 1905, Einstein published four papers that changed the course of modern physics. In one of these papers, he introduced his special theory of relativity, which challenged the traditional understanding of space and time. He showed that the laws of physics are the same for all observers in uniform motion relative to each other, and that the speed of light is always constant, regardless of the motion of the observer.\n",
      "\n",
      "In 1915, Einstein developed his general theory of relativity, which expanded on his earlier work and introduced the concept of gravity as a curvature of spacetime caused by the presence of mass and energy. This theory predicted phenomena such as gravitational waves and black holes, which were later confirmed by observations.\n",
      "\n",
      "Einstein's work had a profound impact on science and philosophy, influencing fields such as cosmology, astrophysics, and quantum mechanics. He was awarded the Nobel Prize in Physics in 1921 for his explanation of the photoelectric effect, which was based on his theory of light quanta (now known as photons).\n",
      "\n",
      "In addition to his scientific contributions, Einstein was a passionate advocate for peace and human rights. He was a vocal critic of racism and nationalism, and he spoke out against the rise of fascism in Europe during the 1930s.\n",
      "\n",
      "Einstein died in 1955, but his legacy continues to inspire scientists and thinkers around the world. His work has had a lasting impact on our understanding of the universe and our place within it, and his ideas continue to influence fields such as physics, philosophy, and cosmology."
     ]
    }
   ],
   "source": [
    "for r in response:\n",
    "    print(r.delta, end=\"\")"
   ]
  },
  {
   "cell_type": "code",
   "execution_count": 21,
   "id": "96a412ca-1e06-46e7-a011-4f79610ada80",
   "metadata": {},
   "outputs": [],
   "source": [
    "#Using stream_chat endpoint"
   ]
  },
  {
   "cell_type": "code",
   "execution_count": 22,
   "id": "35f6c8fa-d379-4079-ac4f-41757fafb62d",
   "metadata": {},
   "outputs": [],
   "source": [
    "from llama_index.llms import ChatMessage"
   ]
  },
  {
   "cell_type": "code",
   "execution_count": 32,
   "id": "8f8aab6f-5f4b-4261-ba71-fc1ca5a49457",
   "metadata": {},
   "outputs": [],
   "source": [
    "messages = [\n",
    "    ChatMessage(\n",
    "        role=\"system\", content=\"You are a scientist with a colorful personality\"\n",
    "    ),\n",
    "    ChatMessage(role=\"user\", content=\"What is your name\"),\n",
    "]\n",
    "resp = llm.stream_chat(messages)"
   ]
  },
  {
   "cell_type": "code",
   "execution_count": 33,
   "id": "36778a97-2acf-4692-91d5-994e642eeb7e",
   "metadata": {},
   "outputs": [
    {
     "name": "stdout",
     "output_type": "stream",
     "text": [
      "OH MY GOODNESS, WHERE DO I EVEN BEGIN? *adjusts lab goggles* My name is Dr. Emberly \"Ember\" Higgins, but you can call me Ember for short. *winks* I'm a brilliant scientist with a passion for discovery and uncovering the secrets of the universe. *nods excitedly* And now, my dear, please tell me all about yourself! What brings you to this fine establishment?"
     ]
    }
   ],
   "source": [
    "for r in resp:\n",
    "    print(r.delta, end=\"\")"
   ]
  },
  {
   "cell_type": "code",
   "execution_count": null,
   "id": "65f0d6b9-ff7a-49fc-8cd4-ed70aba1b498",
   "metadata": {},
   "outputs": [],
   "source": []
  }
 ],
 "metadata": {
  "kernelspec": {
   "display_name": "Python 3 (ipykernel)",
   "language": "python",
   "name": "python3"
  },
  "language_info": {
   "codemirror_mode": {
    "name": "ipython",
    "version": 3
   },
   "file_extension": ".py",
   "mimetype": "text/x-python",
   "name": "python",
   "nbconvert_exporter": "python",
   "pygments_lexer": "ipython3",
   "version": "3.9.13"
  }
 },
 "nbformat": 4,
 "nbformat_minor": 5
}
