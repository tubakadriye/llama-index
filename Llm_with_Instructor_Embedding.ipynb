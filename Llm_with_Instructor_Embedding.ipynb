{
 "cells": [
  {
   "cell_type": "markdown",
   "id": "d3cbc6e7-5fdf-4b62-ab56-aff8b3c5d2b9",
   "metadata": {},
   "source": [
    "## Custom Embeddings\n",
    "\n",
    "\n",
    "https://docs.llamaindex.ai/en/stable/examples/embeddings/custom_embeddings.html\n",
    "\n",
    "The example below uses Instructor Embeddings (install/setup details here), and implements a custom embeddings class. Instructor embeddings work by providing text, as well as “instructions” on the domain of the text to embed. This is helpful when embedding text from a very specific and specialized topic."
   ]
  },
  {
   "cell_type": "code",
   "execution_count": 1,
   "id": "743947d6-780e-448c-a9d7-0aca6db288e0",
   "metadata": {
    "tags": []
   },
   "outputs": [
    {
     "name": "stdout",
     "output_type": "stream",
     "text": [
      "Requirement already satisfied: InstructorEmbedding in /Users/tubakaraca/opt/anaconda3/lib/python3.9/site-packages (1.0.1)\n",
      "Requirement already satisfied: torch in /Users/tubakaraca/opt/anaconda3/lib/python3.9/site-packages (1.13.1)\n",
      "Requirement already satisfied: transformers in /Users/tubakaraca/opt/anaconda3/lib/python3.9/site-packages (4.30.2)\n",
      "Requirement already satisfied: sentence-transformers in /Users/tubakaraca/opt/anaconda3/lib/python3.9/site-packages (2.2.2)\n",
      "Requirement already satisfied: typing-extensions in /Users/tubakaraca/opt/anaconda3/lib/python3.9/site-packages (from torch) (4.8.0)\n",
      "Requirement already satisfied: safetensors>=0.3.1 in /Users/tubakaraca/opt/anaconda3/lib/python3.9/site-packages (from transformers) (0.3.1)\n",
      "Requirement already satisfied: filelock in /Users/tubakaraca/opt/anaconda3/lib/python3.9/site-packages (from transformers) (3.13.1)\n",
      "Requirement already satisfied: tokenizers!=0.11.3,<0.14,>=0.11.1 in /Users/tubakaraca/opt/anaconda3/lib/python3.9/site-packages (from transformers) (0.13.3)\n",
      "Requirement already satisfied: requests in /Users/tubakaraca/opt/anaconda3/lib/python3.9/site-packages (from transformers) (2.31.0)\n",
      "Requirement already satisfied: pyyaml>=5.1 in /Users/tubakaraca/opt/anaconda3/lib/python3.9/site-packages (from transformers) (6.0)\n",
      "Requirement already satisfied: numpy>=1.17 in /Users/tubakaraca/opt/anaconda3/lib/python3.9/site-packages (from transformers) (1.24.4)\n",
      "Requirement already satisfied: huggingface-hub<1.0,>=0.14.1 in /Users/tubakaraca/opt/anaconda3/lib/python3.9/site-packages (from transformers) (0.16.4)\n",
      "Requirement already satisfied: packaging>=20.0 in /Users/tubakaraca/opt/anaconda3/lib/python3.9/site-packages (from transformers) (23.2)\n",
      "Requirement already satisfied: tqdm>=4.27 in /Users/tubakaraca/opt/anaconda3/lib/python3.9/site-packages (from transformers) (4.65.0)\n",
      "Requirement already satisfied: regex!=2019.12.17 in /Users/tubakaraca/opt/anaconda3/lib/python3.9/site-packages (from transformers) (2022.7.9)\n",
      "Requirement already satisfied: nltk in /Users/tubakaraca/opt/anaconda3/lib/python3.9/site-packages (from sentence-transformers) (3.7)\n",
      "Requirement already satisfied: scikit-learn in /Users/tubakaraca/opt/anaconda3/lib/python3.9/site-packages (from sentence-transformers) (1.0.2)\n",
      "Requirement already satisfied: scipy in /Users/tubakaraca/opt/anaconda3/lib/python3.9/site-packages (from sentence-transformers) (1.9.1)\n",
      "Requirement already satisfied: sentencepiece in /Users/tubakaraca/opt/anaconda3/lib/python3.9/site-packages (from sentence-transformers) (0.1.99)\n",
      "Requirement already satisfied: torchvision in /Users/tubakaraca/opt/anaconda3/lib/python3.9/site-packages (from sentence-transformers) (0.14.1)\n",
      "Requirement already satisfied: fsspec in /Users/tubakaraca/opt/anaconda3/lib/python3.9/site-packages (from huggingface-hub<1.0,>=0.14.1->transformers) (2023.6.0)\n",
      "Requirement already satisfied: joblib in /Users/tubakaraca/opt/anaconda3/lib/python3.9/site-packages (from nltk->sentence-transformers) (1.1.0)\n",
      "Requirement already satisfied: click in /Users/tubakaraca/opt/anaconda3/lib/python3.9/site-packages (from nltk->sentence-transformers) (8.1.3)\n",
      "Requirement already satisfied: idna<4,>=2.5 in /Users/tubakaraca/opt/anaconda3/lib/python3.9/site-packages (from requests->transformers) (3.3)\n",
      "Requirement already satisfied: urllib3<3,>=1.21.1 in /Users/tubakaraca/opt/anaconda3/lib/python3.9/site-packages (from requests->transformers) (1.26.18)\n",
      "Requirement already satisfied: charset-normalizer<4,>=2 in /Users/tubakaraca/opt/anaconda3/lib/python3.9/site-packages (from requests->transformers) (2.0.4)\n",
      "Requirement already satisfied: certifi>=2017.4.17 in /Users/tubakaraca/opt/anaconda3/lib/python3.9/site-packages (from requests->transformers) (2022.9.24)\n",
      "Requirement already satisfied: threadpoolctl>=2.0.0 in /Users/tubakaraca/opt/anaconda3/lib/python3.9/site-packages (from scikit-learn->sentence-transformers) (2.2.0)\n",
      "Requirement already satisfied: pillow!=8.3.*,>=5.3.0 in /Users/tubakaraca/opt/anaconda3/lib/python3.9/site-packages (from torchvision->sentence-transformers) (9.2.0)\n"
     ]
    }
   ],
   "source": [
    "# Install dependencies\n",
    "!pip install InstructorEmbedding torch transformers sentence-transformers"
   ]
  },
  {
   "cell_type": "code",
   "execution_count": 7,
   "id": "d7f3b275-2abe-4448-8c5b-fe1c33610cdd",
   "metadata": {},
   "outputs": [],
   "source": [
    "import openai\n",
    "import os\n"
   ]
  },
  {
   "cell_type": "code",
   "execution_count": 8,
   "id": "fc9f4067-b8a7-4cc3-b739-01bedbdfbdc7",
   "metadata": {},
   "outputs": [],
   "source": [
    "from typing import Any, List\n",
    "from InstructorEmbedding import INSTRUCTOR\n",
    "\n",
    "from llama_index.bridge.pydantic import PrivateAttr\n",
    "from llama_index.embeddings.base import BaseEmbedding"
   ]
  },
  {
   "cell_type": "code",
   "execution_count": 9,
   "id": "1f63a701-a3a9-430b-9acb-f6b73ba65de2",
   "metadata": {},
   "outputs": [],
   "source": [
    "class InstructorEmbedding(BaseEmbedding):\n",
    "    _model: INSTRUCTOR = PrivateAttr()\n",
    "    _instruction: str = PrivateAttr()\n",
    "\n",
    "    def __init__(\n",
    "        self,\n",
    "        instructor_model_name: str = \"hkunlp/instructor-large\",\n",
    "        instruction: str = \"Represent a document for semantic search:\",\n",
    "        **kwargs: Any,\n",
    "    ) -> None:\n",
    "        self._model = INSTRUCTOR(instructor_model_name)\n",
    "        self._instruction = instruction\n",
    "        super().__init__(**kwargs)\n",
    "\n",
    "    @classmethod\n",
    "    def class_name(cls) -> str:\n",
    "        return \"instructor\"\n",
    "\n",
    "    async def _aget_query_embedding(self, query: str) -> List[float]:\n",
    "        return self._get_query_embedding(query)\n",
    "\n",
    "    async def _aget_text_embedding(self, text: str) -> List[float]:\n",
    "        return self._get_text_embedding(text)\n",
    "\n",
    "    def _get_query_embedding(self, query: str) -> List[float]:\n",
    "        embeddings = self._model.encode([[self._instruction, query]])\n",
    "        return embeddings[0]\n",
    "\n",
    "    def _get_text_embedding(self, text: str) -> List[float]:\n",
    "        embeddings = self._model.encode([[self._instruction, text]])\n",
    "        return embeddings[0]\n",
    "\n",
    "    def _get_text_embeddings(self, texts: List[str]) -> List[List[float]]:\n",
    "        embeddings = self._model.encode(\n",
    "            [[self._instruction, text] for text in texts]\n",
    "        )\n",
    "        return embeddings"
   ]
  },
  {
   "cell_type": "code",
   "execution_count": 10,
   "id": "7ea2ce4c-90af-42a9-a049-0c8e44036eaa",
   "metadata": {},
   "outputs": [],
   "source": [
    "from llama_index import ServiceContext, SimpleDirectoryReader, VectorStoreIndex"
   ]
  },
  {
   "cell_type": "markdown",
   "id": "7ba7789e-8a70-4fb0-9272-cdbe784e1410",
   "metadata": {},
   "source": [
    "## Download Data"
   ]
  },
  {
   "cell_type": "code",
   "execution_count": 5,
   "id": "902cc76a-abf9-492b-9e73-1ca5788476df",
   "metadata": {},
   "outputs": [],
   "source": [
    "#Download Data\n",
    "!mkdir -p 'data/paul_graham/'"
   ]
  },
  {
   "cell_type": "code",
   "execution_count": 6,
   "id": "0c58b523-eba6-4689-a31c-877eafc897b0",
   "metadata": {},
   "outputs": [
    {
     "name": "stdout",
     "output_type": "stream",
     "text": [
      "--2023-12-03 22:16:07--  https://raw.githubusercontent.com/run-llama/llama_index/main/docs/examples/data/paul_graham/paul_graham_essay.txt\n",
      "Resolving raw.githubusercontent.com (raw.githubusercontent.com)... 2606:50c0:8001::154, 2606:50c0:8002::154, 2606:50c0:8003::154, ...\n",
      "Connecting to raw.githubusercontent.com (raw.githubusercontent.com)|2606:50c0:8001::154|:443... connected.\n",
      "HTTP request sent, awaiting response... 200 OK\n",
      "Length: 75042 (73K) [text/plain]\n",
      "Saving to: 'data/paul_graham/paul_graham_essay.txt'\n",
      "\n",
      "data/paul_graham/pa 100%[===================>]  73.28K  --.-KB/s    in 0.03s   \n",
      "\n",
      "2023-12-03 22:16:08 (2.38 MB/s) - 'data/paul_graham/paul_graham_essay.txt' saved [75042/75042]\n",
      "\n"
     ]
    }
   ],
   "source": [
    "!wget 'https://raw.githubusercontent.com/run-llama/llama_index/main/docs/examples/data/paul_graham/paul_graham_essay.txt' -O 'data/paul_graham/paul_graham_essay.txt'"
   ]
  },
  {
   "cell_type": "markdown",
   "id": "41923f12-fb47-4453-b77a-5129114af88f",
   "metadata": {},
   "source": [
    "## Load Documents"
   ]
  },
  {
   "cell_type": "code",
   "execution_count": 11,
   "id": "6e2be752-130d-4252-a7b0-90d8966079cb",
   "metadata": {},
   "outputs": [],
   "source": [
    "#Load Documents\n",
    "documents = SimpleDirectoryReader(\"./data/paul_graham/\").load_data()"
   ]
  },
  {
   "cell_type": "code",
   "execution_count": 10,
   "id": "f23a58f9-ac89-47cf-8eb1-158f4b0299d5",
   "metadata": {},
   "outputs": [
    {
     "name": "stdout",
     "output_type": "stream",
     "text": [
      "Collecting llama-cpp-python\n",
      "  Downloading llama_cpp_python-0.2.20.tar.gz (8.7 MB)\n",
      "\u001b[2K     \u001b[90m━━━━━━━━━━━━━━━━━━━━━━━━━━━━━━━━━━━━━━━━\u001b[0m \u001b[32m8.7/8.7 MB\u001b[0m \u001b[31m14.8 MB/s\u001b[0m eta \u001b[36m0:00:00\u001b[0m00:01\u001b[0m00:01\u001b[0m\n",
      "\u001b[?25h  Installing build dependencies ... \u001b[?25ldone\n",
      "\u001b[?25h  Getting requirements to build wheel ... \u001b[?25ldone\n",
      "\u001b[?25h  Installing backend dependencies ... \u001b[?25ldone\n",
      "\u001b[?25h  Preparing metadata (pyproject.toml) ... \u001b[?25ldone\n",
      "\u001b[?25hRequirement already satisfied: numpy>=1.20.0 in /Users/tubakaraca/opt/anaconda3/lib/python3.9/site-packages (from llama-cpp-python) (1.24.4)\n",
      "Requirement already satisfied: typing-extensions>=4.5.0 in /Users/tubakaraca/opt/anaconda3/lib/python3.9/site-packages (from llama-cpp-python) (4.8.0)\n",
      "Collecting diskcache>=5.6.1\n",
      "  Downloading diskcache-5.6.3-py3-none-any.whl (45 kB)\n",
      "\u001b[2K     \u001b[90m━━━━━━━━━━━━━━━━━━━━━━━━━━━━━━━━━━━━━━━━\u001b[0m \u001b[32m45.5/45.5 kB\u001b[0m \u001b[31m1.5 MB/s\u001b[0m eta \u001b[36m0:00:00\u001b[0m\n",
      "\u001b[?25hBuilding wheels for collected packages: llama-cpp-python\n",
      "  Building wheel for llama-cpp-python (pyproject.toml) ... \u001b[?25ldone\n",
      "\u001b[?25h  Created wheel for llama-cpp-python: filename=llama_cpp_python-0.2.20-cp39-cp39-macosx_10_16_x86_64.whl size=2009328 sha256=0cc231882abe7b9bf9495faa290106db7c7872493e6d5273b5beb63770ba8297\n",
      "  Stored in directory: /Users/tubakaraca/Library/Caches/pip/wheels/96/35/04/d0f9a805af30133b52814a064875e924ea0c4d7cac1cc89478\n",
      "Successfully built llama-cpp-python\n",
      "Installing collected packages: diskcache, llama-cpp-python\n",
      "Successfully installed diskcache-5.6.3 llama-cpp-python-0.2.20\n"
     ]
    }
   ],
   "source": [
    "!pip install llama-cpp-python"
   ]
  },
  {
   "cell_type": "code",
   "execution_count": null,
   "id": "3ce4d692-f222-44a3-bbe7-7b4f45687d6b",
   "metadata": {},
   "outputs": [],
   "source": [
    "#!ollama run llama2:7b"
   ]
  },
  {
   "cell_type": "code",
   "execution_count": 2,
   "id": "44a2fb1e-71f2-4cac-a4e1-2a5a0dcb6668",
   "metadata": {},
   "outputs": [],
   "source": [
    "from llama_index.llms import Ollama"
   ]
  },
  {
   "cell_type": "code",
   "execution_count": 3,
   "id": "99d71f1a-816c-41b9-8ef5-a08a8732af78",
   "metadata": {},
   "outputs": [],
   "source": [
    "llm = Ollama(model=\"llama2:7b\", )"
   ]
  },
  {
   "cell_type": "code",
   "execution_count": 12,
   "id": "2f897a3b-414f-415e-a41f-a029de0baacb",
   "metadata": {
    "tags": []
   },
   "outputs": [
    {
     "name": "stdout",
     "output_type": "stream",
     "text": [
      "load INSTRUCTOR_Transformer\n",
      "max_seq_length  512\n"
     ]
    }
   ],
   "source": [
    "service_context = ServiceContext.from_defaults(\n",
    "    llm=llm,\n",
    "    embed_model=InstructorEmbeddings(embed_batch_size=2), chunk_size=512\n",
    ")\n"
   ]
  },
  {
   "cell_type": "markdown",
   "id": "db9f1f64-ff35-4bdb-9f79-70528d98c0af",
   "metadata": {},
   "source": [
    "## Index Setup"
   ]
  },
  {
   "cell_type": "code",
   "execution_count": 13,
   "id": "ba49119e-b3e8-477a-98df-4551c8b77c49",
   "metadata": {},
   "outputs": [],
   "source": [
    "# if running for the first time, will download model weights first!\n",
    "index = VectorStoreIndex.from_documents(\n",
    "    documents, service_context=service_context\n",
    ")"
   ]
  },
  {
   "cell_type": "code",
   "execution_count": 14,
   "id": "d5ce2ac8-5611-4e33-acf0-8edf0dfece61",
   "metadata": {},
   "outputs": [
    {
     "name": "stdout",
     "output_type": "stream",
     "text": [
      "Based on the context information provided, the author did the following growing up:\n",
      "\n",
      "1. Wrote short stories and imagined that they were deep and meaningful.\n",
      "2. Used an IBM 1401 computer in junior high school to write programs, but found it confusing and couldn't remember any of the programs he wrote.\n",
      "3. Got a TRS-80 microcomputer kit and started programming more seriously, writing simple games, a program to predict how high model rockets would fly, and a word processor for his father to use.\n",
      "4. Switched from studying philosophy in college to studying artificial intelligence (AI) because he found it more interesting and thought it was the future of technology.\n"
     ]
    }
   ],
   "source": [
    "response = index.as_query_engine().query(\"What did the author do growing up?\")\n",
    "print(response)"
   ]
  },
  {
   "cell_type": "code",
   "execution_count": null,
   "id": "42fba1e4-7ef4-4d4f-baae-d1e384ce7b15",
   "metadata": {},
   "outputs": [],
   "source": []
  },
  {
   "cell_type": "code",
   "execution_count": null,
   "id": "32ae270a-e09e-4693-82fb-8e9767c5ace8",
   "metadata": {},
   "outputs": [],
   "source": []
  },
  {
   "cell_type": "code",
   "execution_count": 2,
   "id": "6bb32c2b-8531-4283-a427-a0a8530ef4f9",
   "metadata": {},
   "outputs": [
    {
     "name": "stdout",
     "output_type": "stream",
     "text": [
      "Collecting jax-metal\n",
      "  Downloading jax_metal-0.0.4-py3-none-macosx_10_14_x86_64.whl (51.9 MB)\n",
      "\u001b[2K     \u001b[90m━━━━━━━━━━━━━━━━━━━━━━━━━━━━━━━━━━━━━━━━\u001b[0m \u001b[32m51.9/51.9 MB\u001b[0m \u001b[31m5.1 MB/s\u001b[0m eta \u001b[36m0:00:00\u001b[0m00:01\u001b[0m00:01\u001b[0mm\n",
      "\u001b[?25hCollecting jaxlib==0.4.11\n",
      "  Downloading jaxlib-0.4.11-cp39-cp39-macosx_10_14_x86_64.whl (74.9 MB)\n",
      "\u001b[2K     \u001b[90m━━━━━━━━━━━━━━━━━━━━━━━━━━━━━━━━━━━━━━━━\u001b[0m \u001b[32m74.9/74.9 MB\u001b[0m \u001b[31m5.8 MB/s\u001b[0m eta \u001b[36m0:00:00\u001b[0m00:01\u001b[0m00:01\u001b[0mm\n",
      "\u001b[?25hCollecting jax==0.4.11\n",
      "  Downloading jax-0.4.11.tar.gz (1.3 MB)\n",
      "\u001b[2K     \u001b[90m━━━━━━━━━━━━━━━━━━━━━━━━━━━━━━━━━━━━━━━━\u001b[0m \u001b[32m1.3/1.3 MB\u001b[0m \u001b[31m2.6 MB/s\u001b[0m eta \u001b[36m0:00:00\u001b[0m00:01\u001b[0m00:01\u001b[0m\n",
      "\u001b[?25h  Installing build dependencies ... \u001b[?25ldone\n",
      "\u001b[?25h  Getting requirements to build wheel ... \u001b[?25ldone\n",
      "\u001b[?25h  Preparing metadata (pyproject.toml) ... \u001b[?25ldone\n",
      "\u001b[?25hRequirement already satisfied: six>=1.15.0 in /Users/tubakaraca/opt/anaconda3/lib/python3.9/site-packages (from jax-metal) (1.16.0)\n",
      "Requirement already satisfied: wheel~=0.35 in /Users/tubakaraca/opt/anaconda3/lib/python3.9/site-packages (from jax-metal) (0.37.1)\n",
      "Requirement already satisfied: importlib-metadata>=4.6 in /Users/tubakaraca/opt/anaconda3/lib/python3.9/site-packages (from jax==0.4.11->jax-metal) (6.0.1)\n",
      "Requirement already satisfied: scipy>=1.7 in /Users/tubakaraca/opt/anaconda3/lib/python3.9/site-packages (from jax==0.4.11->jax-metal) (1.9.1)\n",
      "Requirement already satisfied: numpy>=1.21 in /Users/tubakaraca/opt/anaconda3/lib/python3.9/site-packages (from jax==0.4.11->jax-metal) (1.24.4)\n",
      "Requirement already satisfied: opt-einsum in /Users/tubakaraca/opt/anaconda3/lib/python3.9/site-packages (from jax==0.4.11->jax-metal) (3.3.0)\n",
      "Requirement already satisfied: ml-dtypes>=0.1.0 in /Users/tubakaraca/opt/anaconda3/lib/python3.9/site-packages (from jax==0.4.11->jax-metal) (0.2.0)\n",
      "Requirement already satisfied: zipp>=0.5 in /Users/tubakaraca/opt/anaconda3/lib/python3.9/site-packages (from importlib-metadata>=4.6->jax==0.4.11->jax-metal) (3.8.0)\n",
      "Building wheels for collected packages: jax\n",
      "  Building wheel for jax (pyproject.toml) ... \u001b[?25ldone\n",
      "\u001b[?25h  Created wheel for jax: filename=jax-0.4.11-py3-none-any.whl size=1487870 sha256=c9568a02ba3b911c3c093ccbb81206b9a732680ce9b82bd174ae775c7c2fc24c\n",
      "  Stored in directory: /Users/tubakaraca/Library/Caches/pip/wheels/7b/cf/91/0100f587c836f0e6c07b595e15265e5e208bed047417a94ca9\n",
      "Successfully built jax\n",
      "Installing collected packages: jaxlib, jax, jax-metal\n",
      "  Attempting uninstall: jaxlib\n",
      "    Found existing installation: jaxlib 0.4.20\n",
      "    Uninstalling jaxlib-0.4.20:\n",
      "      Successfully uninstalled jaxlib-0.4.20\n",
      "  Attempting uninstall: jax\n",
      "    Found existing installation: jax 0.4.20\n",
      "    Uninstalling jax-0.4.20:\n",
      "      Successfully uninstalled jax-0.4.20\n",
      "\u001b[31mERROR: pip's dependency resolver does not currently take into account all the packages that are installed. This behaviour is the source of the following dependency conflicts.\n",
      "chex 0.1.83 requires jax>=0.4.16, but you have jax 0.4.11 which is incompatible.\u001b[0m\u001b[31m\n",
      "\u001b[0mSuccessfully installed jax-0.4.11 jax-metal-0.0.4 jaxlib-0.4.11\n"
     ]
    }
   ],
   "source": [
    "#!python3 -m pip install jax-metal"
   ]
  },
  {
   "cell_type": "code",
   "execution_count": 3,
   "id": "ae4006ac-0c18-4d6d-a4d4-b3977fc836bb",
   "metadata": {},
   "outputs": [
    {
     "name": "stdout",
     "output_type": "stream",
     "text": [
      "Traceback (most recent call last):\n",
      "  File \"<string>\", line 1, in <module>\n",
      "  File \"/Users/tubakaraca/opt/anaconda3/lib/python3.9/site-packages/jax/__init__.py\", line 35, in <module>\n",
      "    from jax import config as _config_module\n",
      "  File \"/Users/tubakaraca/opt/anaconda3/lib/python3.9/site-packages/jax/config.py\", line 17, in <module>\n",
      "    from jax._src.config import config  # noqa: F401\n",
      "  File \"/Users/tubakaraca/opt/anaconda3/lib/python3.9/site-packages/jax/_src/config.py\", line 24, in <module>\n",
      "    from jax._src import lib\n",
      "  File \"/Users/tubakaraca/opt/anaconda3/lib/python3.9/site-packages/jax/_src/lib/__init__.py\", line 84, in <module>\n",
      "    cpu_feature_guard.check_cpu_features()\n",
      "RuntimeError: This version of jaxlib was built using AVX instructions, which your CPU and/or operating system do not support. You may be able work around this issue by building jaxlib from source.\n"
     ]
    }
   ],
   "source": [
    "#!python3 -c 'import jax; print(jax.numpy.arange(10))'"
   ]
  },
  {
   "cell_type": "code",
   "execution_count": 3,
   "id": "eda40cc1-8fb8-4b0c-821b-3d9f80c97015",
   "metadata": {},
   "outputs": [
    {
     "name": "stdout",
     "output_type": "stream",
     "text": [
      "Found existing installation: jax 0.4.18\n",
      "Uninstalling jax-0.4.18:\n",
      "  Would remove:\n",
      "    /Users/tubakaraca/opt/anaconda3/lib/python3.9/site-packages/jax-0.4.18.dist-info/*\n",
      "    /Users/tubakaraca/opt/anaconda3/lib/python3.9/site-packages/jax/*\n",
      "Proceed (Y/n)? ^C\n",
      "\u001b[31mERROR: Operation cancelled by user\u001b[0m\u001b[31m\n",
      "\u001b[0m"
     ]
    }
   ],
   "source": [
    "#!pip uninstall jax jaxlib"
   ]
  },
  {
   "cell_type": "code",
   "execution_count": 4,
   "id": "9d5bddac-81ea-45e2-b500-c782f0082bc6",
   "metadata": {},
   "outputs": [
    {
     "name": "stdout",
     "output_type": "stream",
     "text": [
      "Collecting jax\n",
      "  Downloading jax-0.4.20-py3-none-any.whl (1.7 MB)\n",
      "\u001b[2K     \u001b[90m━━━━━━━━━━━━━━━━━━━━━━━━━━━━━━━━━━━━━━━━\u001b[0m \u001b[32m1.7/1.7 MB\u001b[0m \u001b[31m8.7 MB/s\u001b[0m eta \u001b[36m0:00:00\u001b[0ma \u001b[36m0:00:01\u001b[0m\n",
      "\u001b[?25hCollecting jaxlib\n",
      "  Downloading jaxlib-0.4.20-cp39-cp39-macosx_10_14_x86_64.whl (82.6 MB)\n",
      "\u001b[2K     \u001b[90m━━━━━━━━━━━━━━━━━━━━━━━━━━━━━━━━━━━━━━━━\u001b[0m \u001b[32m82.6/82.6 MB\u001b[0m \u001b[31m4.1 MB/s\u001b[0m eta \u001b[36m0:00:00\u001b[0m00:01\u001b[0m00:01\u001b[0mm\n",
      "\u001b[?25hRequirement already satisfied: importlib-metadata>=4.6 in /Users/tubakaraca/opt/anaconda3/lib/python3.9/site-packages (from jax) (6.0.1)\n",
      "Requirement already satisfied: scipy>=1.9 in /Users/tubakaraca/opt/anaconda3/lib/python3.9/site-packages (from jax) (1.9.1)\n",
      "Requirement already satisfied: opt-einsum in /Users/tubakaraca/opt/anaconda3/lib/python3.9/site-packages (from jax) (3.3.0)\n",
      "Requirement already satisfied: numpy>=1.22 in /Users/tubakaraca/opt/anaconda3/lib/python3.9/site-packages (from jax) (1.24.4)\n",
      "Requirement already satisfied: ml-dtypes>=0.2.0 in /Users/tubakaraca/opt/anaconda3/lib/python3.9/site-packages (from jax) (0.2.0)\n",
      "Requirement already satisfied: zipp>=0.5 in /Users/tubakaraca/opt/anaconda3/lib/python3.9/site-packages (from importlib-metadata>=4.6->jax) (3.8.0)\n",
      "Installing collected packages: jaxlib, jax\n",
      "Successfully installed jax-0.4.20 jaxlib-0.4.20\n"
     ]
    }
   ],
   "source": [
    "#!pip install --upgrade jax jaxlib"
   ]
  },
  {
   "cell_type": "code",
   "execution_count": null,
   "id": "bb0066d7-d227-4b8e-92c3-ff432916ffff",
   "metadata": {},
   "outputs": [],
   "source": []
  }
 ],
 "metadata": {
  "kernelspec": {
   "display_name": "Python 3 (ipykernel)",
   "language": "python",
   "name": "python3"
  },
  "language_info": {
   "codemirror_mode": {
    "name": "ipython",
    "version": 3
   },
   "file_extension": ".py",
   "mimetype": "text/x-python",
   "name": "python",
   "nbconvert_exporter": "python",
   "pygments_lexer": "ipython3",
   "version": "3.9.13"
  }
 },
 "nbformat": 4,
 "nbformat_minor": 5
}
